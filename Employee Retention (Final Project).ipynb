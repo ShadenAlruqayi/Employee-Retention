{
  "nbformat": 4,
  "nbformat_minor": 0,
  "metadata": {
    "colab": {
      "name": "Final_Project (1).ipynb",
      "provenance": [],
      "collapsed_sections": []
    },
    "kernelspec": {
      "name": "python3",
      "display_name": "Python 3"
    }
  },
  "cells": [
    {
      "cell_type": "code",
      "metadata": {
        "id": "2LDHoWckfHyq",
        "colab": {
          "base_uri": "https://localhost:8080/"
        },
        "outputId": "caca269d-46d5-4862-b064-e5ccba724d8d"
      },
      "source": [
        "from google.colab import drive\n",
        "drive.mount('/content/gdrive')"
      ],
      "execution_count": 2,
      "outputs": [
        {
          "output_type": "stream",
          "text": [
            "Drive already mounted at /content/gdrive; to attempt to forcibly remount, call drive.mount(\"/content/gdrive\", force_remount=True).\n"
          ],
          "name": "stdout"
        }
      ]
    },
    {
      "cell_type": "code",
      "metadata": {
        "id": "HoO5JQVZgp60"
      },
      "source": [
        "#Importing the needed libraries\n",
        "import pandas as pd\n",
        "import numpy as np\n",
        "import matplotlib.pyplot as plt\n",
        "import seaborn as sns\n",
        "\n",
        "df=pd.read_csv('/content/gdrive/MyDrive/HR_comma_sep.csv')"
      ],
      "execution_count": 3,
      "outputs": []
    },
    {
      "cell_type": "code",
      "metadata": {
        "id": "JyqPezcRhKUt",
        "colab": {
          "base_uri": "https://localhost:8080/",
          "height": 204
        },
        "outputId": "20cc104d-98b0-409e-b3ad-7fecd9ac7e0d"
      },
      "source": [
        "df.head()"
      ],
      "execution_count": 4,
      "outputs": [
        {
          "output_type": "execute_result",
          "data": {
            "text/html": [
              "<div>\n",
              "<style scoped>\n",
              "    .dataframe tbody tr th:only-of-type {\n",
              "        vertical-align: middle;\n",
              "    }\n",
              "\n",
              "    .dataframe tbody tr th {\n",
              "        vertical-align: top;\n",
              "    }\n",
              "\n",
              "    .dataframe thead th {\n",
              "        text-align: right;\n",
              "    }\n",
              "</style>\n",
              "<table border=\"1\" class=\"dataframe\">\n",
              "  <thead>\n",
              "    <tr style=\"text-align: right;\">\n",
              "      <th></th>\n",
              "      <th>satisfaction_level</th>\n",
              "      <th>last_evaluation</th>\n",
              "      <th>number_project</th>\n",
              "      <th>average_montly_hours</th>\n",
              "      <th>time_spend_company</th>\n",
              "      <th>Work_accident</th>\n",
              "      <th>left</th>\n",
              "      <th>promotion_last_5years</th>\n",
              "      <th>Department</th>\n",
              "      <th>salary</th>\n",
              "    </tr>\n",
              "  </thead>\n",
              "  <tbody>\n",
              "    <tr>\n",
              "      <th>0</th>\n",
              "      <td>0.38</td>\n",
              "      <td>0.53</td>\n",
              "      <td>2</td>\n",
              "      <td>157</td>\n",
              "      <td>3</td>\n",
              "      <td>0</td>\n",
              "      <td>1</td>\n",
              "      <td>0</td>\n",
              "      <td>sales</td>\n",
              "      <td>low</td>\n",
              "    </tr>\n",
              "    <tr>\n",
              "      <th>1</th>\n",
              "      <td>0.80</td>\n",
              "      <td>0.86</td>\n",
              "      <td>5</td>\n",
              "      <td>262</td>\n",
              "      <td>6</td>\n",
              "      <td>0</td>\n",
              "      <td>1</td>\n",
              "      <td>0</td>\n",
              "      <td>sales</td>\n",
              "      <td>medium</td>\n",
              "    </tr>\n",
              "    <tr>\n",
              "      <th>2</th>\n",
              "      <td>0.11</td>\n",
              "      <td>0.88</td>\n",
              "      <td>7</td>\n",
              "      <td>272</td>\n",
              "      <td>4</td>\n",
              "      <td>0</td>\n",
              "      <td>1</td>\n",
              "      <td>0</td>\n",
              "      <td>sales</td>\n",
              "      <td>medium</td>\n",
              "    </tr>\n",
              "    <tr>\n",
              "      <th>3</th>\n",
              "      <td>0.72</td>\n",
              "      <td>0.87</td>\n",
              "      <td>5</td>\n",
              "      <td>223</td>\n",
              "      <td>5</td>\n",
              "      <td>0</td>\n",
              "      <td>1</td>\n",
              "      <td>0</td>\n",
              "      <td>sales</td>\n",
              "      <td>low</td>\n",
              "    </tr>\n",
              "    <tr>\n",
              "      <th>4</th>\n",
              "      <td>0.37</td>\n",
              "      <td>0.52</td>\n",
              "      <td>2</td>\n",
              "      <td>159</td>\n",
              "      <td>3</td>\n",
              "      <td>0</td>\n",
              "      <td>1</td>\n",
              "      <td>0</td>\n",
              "      <td>sales</td>\n",
              "      <td>low</td>\n",
              "    </tr>\n",
              "  </tbody>\n",
              "</table>\n",
              "</div>"
            ],
            "text/plain": [
              "   satisfaction_level  last_evaluation  ...  Department  salary\n",
              "0                0.38             0.53  ...       sales     low\n",
              "1                0.80             0.86  ...       sales  medium\n",
              "2                0.11             0.88  ...       sales  medium\n",
              "3                0.72             0.87  ...       sales     low\n",
              "4                0.37             0.52  ...       sales     low\n",
              "\n",
              "[5 rows x 10 columns]"
            ]
          },
          "metadata": {
            "tags": []
          },
          "execution_count": 4
        }
      ]
    },
    {
      "cell_type": "code",
      "metadata": {
        "id": "hweZPLMghRlX",
        "colab": {
          "base_uri": "https://localhost:8080/"
        },
        "outputId": "644fa869-63c3-4f18-fa6a-01a7ca2d2123"
      },
      "source": [
        "df.info()"
      ],
      "execution_count": 5,
      "outputs": [
        {
          "output_type": "stream",
          "text": [
            "<class 'pandas.core.frame.DataFrame'>\n",
            "RangeIndex: 14999 entries, 0 to 14998\n",
            "Data columns (total 10 columns):\n",
            " #   Column                 Non-Null Count  Dtype  \n",
            "---  ------                 --------------  -----  \n",
            " 0   satisfaction_level     14999 non-null  float64\n",
            " 1   last_evaluation        14999 non-null  float64\n",
            " 2   number_project         14999 non-null  int64  \n",
            " 3   average_montly_hours   14999 non-null  int64  \n",
            " 4   time_spend_company     14999 non-null  int64  \n",
            " 5   Work_accident          14999 non-null  int64  \n",
            " 6   left                   14999 non-null  int64  \n",
            " 7   promotion_last_5years  14999 non-null  int64  \n",
            " 8   Department             14999 non-null  object \n",
            " 9   salary                 14999 non-null  object \n",
            "dtypes: float64(2), int64(6), object(2)\n",
            "memory usage: 1.1+ MB\n"
          ],
          "name": "stdout"
        }
      ]
    },
    {
      "cell_type": "code",
      "metadata": {
        "id": "i0jtUA6xhRqm",
        "colab": {
          "base_uri": "https://localhost:8080/",
          "height": 297
        },
        "outputId": "037cdd77-e046-4b8b-ec41-fb84797f9302"
      },
      "source": [
        "df.describe()"
      ],
      "execution_count": 6,
      "outputs": [
        {
          "output_type": "execute_result",
          "data": {
            "text/html": [
              "<div>\n",
              "<style scoped>\n",
              "    .dataframe tbody tr th:only-of-type {\n",
              "        vertical-align: middle;\n",
              "    }\n",
              "\n",
              "    .dataframe tbody tr th {\n",
              "        vertical-align: top;\n",
              "    }\n",
              "\n",
              "    .dataframe thead th {\n",
              "        text-align: right;\n",
              "    }\n",
              "</style>\n",
              "<table border=\"1\" class=\"dataframe\">\n",
              "  <thead>\n",
              "    <tr style=\"text-align: right;\">\n",
              "      <th></th>\n",
              "      <th>satisfaction_level</th>\n",
              "      <th>last_evaluation</th>\n",
              "      <th>number_project</th>\n",
              "      <th>average_montly_hours</th>\n",
              "      <th>time_spend_company</th>\n",
              "      <th>Work_accident</th>\n",
              "      <th>left</th>\n",
              "      <th>promotion_last_5years</th>\n",
              "    </tr>\n",
              "  </thead>\n",
              "  <tbody>\n",
              "    <tr>\n",
              "      <th>count</th>\n",
              "      <td>14999.000000</td>\n",
              "      <td>14999.000000</td>\n",
              "      <td>14999.000000</td>\n",
              "      <td>14999.000000</td>\n",
              "      <td>14999.000000</td>\n",
              "      <td>14999.000000</td>\n",
              "      <td>14999.000000</td>\n",
              "      <td>14999.000000</td>\n",
              "    </tr>\n",
              "    <tr>\n",
              "      <th>mean</th>\n",
              "      <td>0.612834</td>\n",
              "      <td>0.716102</td>\n",
              "      <td>3.803054</td>\n",
              "      <td>201.050337</td>\n",
              "      <td>3.498233</td>\n",
              "      <td>0.144610</td>\n",
              "      <td>0.238083</td>\n",
              "      <td>0.021268</td>\n",
              "    </tr>\n",
              "    <tr>\n",
              "      <th>std</th>\n",
              "      <td>0.248631</td>\n",
              "      <td>0.171169</td>\n",
              "      <td>1.232592</td>\n",
              "      <td>49.943099</td>\n",
              "      <td>1.460136</td>\n",
              "      <td>0.351719</td>\n",
              "      <td>0.425924</td>\n",
              "      <td>0.144281</td>\n",
              "    </tr>\n",
              "    <tr>\n",
              "      <th>min</th>\n",
              "      <td>0.090000</td>\n",
              "      <td>0.360000</td>\n",
              "      <td>2.000000</td>\n",
              "      <td>96.000000</td>\n",
              "      <td>2.000000</td>\n",
              "      <td>0.000000</td>\n",
              "      <td>0.000000</td>\n",
              "      <td>0.000000</td>\n",
              "    </tr>\n",
              "    <tr>\n",
              "      <th>25%</th>\n",
              "      <td>0.440000</td>\n",
              "      <td>0.560000</td>\n",
              "      <td>3.000000</td>\n",
              "      <td>156.000000</td>\n",
              "      <td>3.000000</td>\n",
              "      <td>0.000000</td>\n",
              "      <td>0.000000</td>\n",
              "      <td>0.000000</td>\n",
              "    </tr>\n",
              "    <tr>\n",
              "      <th>50%</th>\n",
              "      <td>0.640000</td>\n",
              "      <td>0.720000</td>\n",
              "      <td>4.000000</td>\n",
              "      <td>200.000000</td>\n",
              "      <td>3.000000</td>\n",
              "      <td>0.000000</td>\n",
              "      <td>0.000000</td>\n",
              "      <td>0.000000</td>\n",
              "    </tr>\n",
              "    <tr>\n",
              "      <th>75%</th>\n",
              "      <td>0.820000</td>\n",
              "      <td>0.870000</td>\n",
              "      <td>5.000000</td>\n",
              "      <td>245.000000</td>\n",
              "      <td>4.000000</td>\n",
              "      <td>0.000000</td>\n",
              "      <td>0.000000</td>\n",
              "      <td>0.000000</td>\n",
              "    </tr>\n",
              "    <tr>\n",
              "      <th>max</th>\n",
              "      <td>1.000000</td>\n",
              "      <td>1.000000</td>\n",
              "      <td>7.000000</td>\n",
              "      <td>310.000000</td>\n",
              "      <td>10.000000</td>\n",
              "      <td>1.000000</td>\n",
              "      <td>1.000000</td>\n",
              "      <td>1.000000</td>\n",
              "    </tr>\n",
              "  </tbody>\n",
              "</table>\n",
              "</div>"
            ],
            "text/plain": [
              "       satisfaction_level  last_evaluation  ...          left  promotion_last_5years\n",
              "count        14999.000000     14999.000000  ...  14999.000000           14999.000000\n",
              "mean             0.612834         0.716102  ...      0.238083               0.021268\n",
              "std              0.248631         0.171169  ...      0.425924               0.144281\n",
              "min              0.090000         0.360000  ...      0.000000               0.000000\n",
              "25%              0.440000         0.560000  ...      0.000000               0.000000\n",
              "50%              0.640000         0.720000  ...      0.000000               0.000000\n",
              "75%              0.820000         0.870000  ...      0.000000               0.000000\n",
              "max              1.000000         1.000000  ...      1.000000               1.000000\n",
              "\n",
              "[8 rows x 8 columns]"
            ]
          },
          "metadata": {
            "tags": []
          },
          "execution_count": 6
        }
      ]
    },
    {
      "cell_type": "code",
      "metadata": {
        "id": "iP11PhXAhSms"
      },
      "source": [
        "#Categorizing satisfaction and evaluation levels into bins\n",
        "bins=[0.0,0.1,0.2,0.3,0.4,0.5,0.6,0.7,0.8,0.9,1.0]\n",
        "\n",
        "df['satisfaction_binned'] = pd.cut(df['satisfaction_level'], bins=bins)\n",
        "df['evaluation_binned'] = pd.cut(df['last_evaluation'], bins=bins)"
      ],
      "execution_count": 7,
      "outputs": []
    },
    {
      "cell_type": "code",
      "metadata": {
        "id": "hY1edkRiIz91"
      },
      "source": [
        "#Counting the number of values in each bin\n",
        "satisfaction_count=df.satisfaction_binned.value_counts().sort_index()\n",
        "evaluation_count=df.evaluation_binned.value_counts().sort_index()"
      ],
      "execution_count": 8,
      "outputs": []
    },
    {
      "cell_type": "code",
      "metadata": {
        "id": "3Y3qIVuahRkh",
        "colab": {
          "base_uri": "https://localhost:8080/",
          "height": 745
        },
        "outputId": "49b2620c-6b8c-44d9-a365-b880016b9264"
      },
      "source": [
        "#Creating and formatting a grouped bar chart with the necessary indicators to compare satisfaction and evaluation levels\n",
        "fig, ax=plt.subplots(figsize=(15,9))\n",
        "bar_width=0.45\n",
        "x=np.arange(len(satisfaction_count))\n",
        "counts=['Satisfaction Count','Evaluation Count']\n",
        "new_bins = [\"(0.0, 0.1]\", \"(0.1, 0.2]\", \"(0.2, 0.3]\", \"(0.3, 0.4]\", \"(0.4, 0.5]\", \"(0.5, 0.6]\", \"(0.6, 0.7]\", \"(0.7, 0.8]\", \"(0.8, 0.9]\", \"(0.9, 1.0]\"]\n",
        "plt.bar(x,satisfaction_count,width=bar_width,color='SteelBlue')\n",
        "plt.bar(x+bar_width,evaluation_count,width=bar_width,color='LightSteelBlue')\n",
        "ax.legend(counts)\n",
        "plt.title('Comarison between Satisfaction and Evaluation Levels',size=17)\n",
        "plt.xlabel('Rating',size=14)\n",
        "plt.ylabel('Number of Employees',size=14)\n",
        "ax.set_xticks(x)\n",
        "ax.set_xticklabels(new_bins)"
      ],
      "execution_count": 9,
      "outputs": [
        {
          "output_type": "execute_result",
          "data": {
            "text/plain": [
              "[Text(0, 0, '(0.0, 0.1]'),\n",
              " Text(0, 0, '(0.1, 0.2]'),\n",
              " Text(0, 0, '(0.2, 0.3]'),\n",
              " Text(0, 0, '(0.3, 0.4]'),\n",
              " Text(0, 0, '(0.4, 0.5]'),\n",
              " Text(0, 0, '(0.5, 0.6]'),\n",
              " Text(0, 0, '(0.6, 0.7]'),\n",
              " Text(0, 0, '(0.7, 0.8]'),\n",
              " Text(0, 0, '(0.8, 0.9]'),\n",
              " Text(0, 0, '(0.9, 1.0]')]"
            ]
          },
          "metadata": {
            "tags": []
          },
          "execution_count": 9
        },
        {
          "output_type": "display_data",
          "data": {
            "image/png": "[encoded data removed]",
            "text/plain": [
              "<Figure size 1080x648 with 1 Axes>"
            ]
          },
          "metadata": {
            "tags": [],
            "needs_background": "light"
          }
        }
      ]
    },
    {
      "cell_type": "code",
      "metadata": {
        "colab": {
          "base_uri": "https://localhost:8080/"
        },
        "id": "fjBhcAaGVsgo",
        "outputId": "6be15495-d31e-42b6-e14f-1eb92e6ac7c2"
      },
      "source": [
        "#Calculating the average yearly hours worked per department\n",
        "df['average_yearly_hours']=df['average_montly_hours']*12/df['time_spend_company']\n",
        "avg_hrs_dept=round(df.groupby('Department').average_yearly_hours.mean().sort_values(),0)\n",
        "print('Average yearly hours per department: ',avg_hrs_dept)"
      ],
      "execution_count": 10,
      "outputs": [
        {
          "output_type": "stream",
          "text": [
            "Average yearly hours per department:  Department\n",
            "management     712.0\n",
            "accounting     762.0\n",
            "marketing      762.0\n",
            "sales          774.0\n",
            "product_mng    777.0\n",
            "hr             780.0\n",
            "IT             787.0\n",
            "technical      790.0\n",
            "RandD          791.0\n",
            "support        794.0\n",
            "Name: average_yearly_hours, dtype: float64\n"
          ],
          "name": "stdout"
        }
      ]
    },
    {
      "cell_type": "code",
      "metadata": {
        "id": "ZYoE2pyuctB2"
      },
      "source": [
        "#Calculating the number of employees stayed in each department\n",
        "no_left_dept=df.loc[df['left']==1.]\n",
        "no_left_dept=no_left_dept.groupby('Department').left.value_counts()\n",
        "#Calculating the number of leavers per department\n",
        "stay_dept=df.loc[df['left']==0.]\n",
        "stay_dept=stay_dept.groupby('Department').left.value_counts()"
      ],
      "execution_count": 11,
      "outputs": []
    },
    {
      "cell_type": "code",
      "metadata": {
        "colab": {
          "base_uri": "https://localhost:8080/",
          "height": 746
        },
        "id": "D2HiwEo1UMus",
        "outputId": "9ec32337-95e5-4396-e62a-d9596d0a2037"
      },
      "source": [
        "#Creating and formatting a grouped bar chart with the necessary indicators to compare the number of staying and leaving employees in each department\n",
        "fig, ax=plt.subplots(figsize=(15,9))\n",
        "bar_width=0.45\n",
        "labels=['IT','RandD','Accounting','HR','Management','Marketing','Product_mng','Sales','Support','Technical']\n",
        "legends=['Left','Stayed']\n",
        "x=np.arange(len(no_left_dept))\n",
        "plt.bar(x,no_left_dept,width=bar_width,color='SteelBlue')\n",
        "plt.bar(x+bar_width,stay_dept,width=bar_width,color='LightSteelBlue')\n",
        "plt.legend(legends)\n",
        "plt.title('Leaving and Staying Employees per Department',size=17)\n",
        "plt.xlabel('Department',size=14)\n",
        "plt.ylabel('Number of Employees',size=14)\n",
        "ax.set_xticks(x)\n",
        "ax.set_xticklabels(labels)"
      ],
      "execution_count": 12,
      "outputs": [
        {
          "output_type": "execute_result",
          "data": {
            "text/plain": [
              "[Text(0, 0, 'IT'),\n",
              " Text(0, 0, 'RandD'),\n",
              " Text(0, 0, 'Accounting'),\n",
              " Text(0, 0, 'HR'),\n",
              " Text(0, 0, 'Management'),\n",
              " Text(0, 0, 'Marketing'),\n",
              " Text(0, 0, 'Product_mng'),\n",
              " Text(0, 0, 'Sales'),\n",
              " Text(0, 0, 'Support'),\n",
              " Text(0, 0, 'Technical')]"
            ]
          },
          "metadata": {
            "tags": []
          },
          "execution_count": 12
        },
        {
          "output_type": "display_data",
          "data": {
            "image/png": "[encoded data removed]",
            "text/plain": [
              "<Figure size 1080x648 with 1 Axes>"
            ]
          },
          "metadata": {
            "tags": [],
            "needs_background": "light"
          }
        }
      ]
    },
    {
      "cell_type": "code",
      "metadata": {
        "id": "6J_oIC3pjKMa",
        "colab": {
          "base_uri": "https://localhost:8080/",
          "height": 266
        },
        "outputId": "7a635dc1-d22c-41dc-bfce-0bbd0e1d9839"
      },
      "source": [
        "#Finding the total and percentage employees stayed and left per salary category\n",
        "left_prct=pd.DataFrame()\n",
        "left_prct['total']=df.groupby('salary').left.value_counts()\n",
        "left_prct['left']=round(df.groupby('salary').left.value_counts(True),2)\n",
        "left_prct['left'] = left_prct['left'].astype(float).map(\"{:.0%}\".format)\n",
        "left_prct=left_prct.rename(columns={'left':'Percentage'})\n",
        "left_prct"
      ],
      "execution_count": 13,
      "outputs": [
        {
          "output_type": "execute_result",
          "data": {
            "text/html": [
              "<div>\n",
              "<style scoped>\n",
              "    .dataframe tbody tr th:only-of-type {\n",
              "        vertical-align: middle;\n",
              "    }\n",
              "\n",
              "    .dataframe tbody tr th {\n",
              "        vertical-align: top;\n",
              "    }\n",
              "\n",
              "    .dataframe thead th {\n",
              "        text-align: right;\n",
              "    }\n",
              "</style>\n",
              "<table border=\"1\" class=\"dataframe\">\n",
              "  <thead>\n",
              "    <tr style=\"text-align: right;\">\n",
              "      <th></th>\n",
              "      <th></th>\n",
              "      <th>total</th>\n",
              "      <th>Percentage</th>\n",
              "    </tr>\n",
              "    <tr>\n",
              "      <th>salary</th>\n",
              "      <th>left</th>\n",
              "      <th></th>\n",
              "      <th></th>\n",
              "    </tr>\n",
              "  </thead>\n",
              "  <tbody>\n",
              "    <tr>\n",
              "      <th rowspan=\"2\" valign=\"top\">high</th>\n",
              "      <th>0</th>\n",
              "      <td>1155</td>\n",
              "      <td>93%</td>\n",
              "    </tr>\n",
              "    <tr>\n",
              "      <th>1</th>\n",
              "      <td>82</td>\n",
              "      <td>7%</td>\n",
              "    </tr>\n",
              "    <tr>\n",
              "      <th rowspan=\"2\" valign=\"top\">low</th>\n",
              "      <th>0</th>\n",
              "      <td>5144</td>\n",
              "      <td>70%</td>\n",
              "    </tr>\n",
              "    <tr>\n",
              "      <th>1</th>\n",
              "      <td>2172</td>\n",
              "      <td>30%</td>\n",
              "    </tr>\n",
              "    <tr>\n",
              "      <th rowspan=\"2\" valign=\"top\">medium</th>\n",
              "      <th>0</th>\n",
              "      <td>5129</td>\n",
              "      <td>80%</td>\n",
              "    </tr>\n",
              "    <tr>\n",
              "      <th>1</th>\n",
              "      <td>1317</td>\n",
              "      <td>20%</td>\n",
              "    </tr>\n",
              "  </tbody>\n",
              "</table>\n",
              "</div>"
            ],
            "text/plain": [
              "             total Percentage\n",
              "salary left                  \n",
              "high   0      1155        93%\n",
              "       1        82         7%\n",
              "low    0      5144        70%\n",
              "       1      2172        30%\n",
              "medium 0      5129        80%\n",
              "       1      1317        20%"
            ]
          },
          "metadata": {
            "tags": []
          },
          "execution_count": 13
        }
      ]
    },
    {
      "cell_type": "code",
      "metadata": {
        "colab": {
          "base_uri": "https://localhost:8080/",
          "height": 204
        },
        "id": "Zq5I2UX5ciDk",
        "outputId": "d9980714-b02c-4da0-b2e6-d9fa523a2adf"
      },
      "source": [
        "#Finding the number of staying and leaving employees who were/were not promoted in the last 5 years\n",
        "#Promotion could be the main reason for leaving the company because most leavers were not promoted\n",
        "left_promo=pd.DataFrame(df.groupby('left').promotion_last_5years.value_counts())\n",
        "left_promo"
      ],
      "execution_count": 14,
      "outputs": [
        {
          "output_type": "execute_result",
          "data": {
            "text/html": [
              "<div>\n",
              "<style scoped>\n",
              "    .dataframe tbody tr th:only-of-type {\n",
              "        vertical-align: middle;\n",
              "    }\n",
              "\n",
              "    .dataframe tbody tr th {\n",
              "        vertical-align: top;\n",
              "    }\n",
              "\n",
              "    .dataframe thead th {\n",
              "        text-align: right;\n",
              "    }\n",
              "</style>\n",
              "<table border=\"1\" class=\"dataframe\">\n",
              "  <thead>\n",
              "    <tr style=\"text-align: right;\">\n",
              "      <th></th>\n",
              "      <th></th>\n",
              "      <th>promotion_last_5years</th>\n",
              "    </tr>\n",
              "    <tr>\n",
              "      <th>left</th>\n",
              "      <th>promotion_last_5years</th>\n",
              "      <th></th>\n",
              "    </tr>\n",
              "  </thead>\n",
              "  <tbody>\n",
              "    <tr>\n",
              "      <th rowspan=\"2\" valign=\"top\">0</th>\n",
              "      <th>0</th>\n",
              "      <td>11128</td>\n",
              "    </tr>\n",
              "    <tr>\n",
              "      <th>1</th>\n",
              "      <td>300</td>\n",
              "    </tr>\n",
              "    <tr>\n",
              "      <th rowspan=\"2\" valign=\"top\">1</th>\n",
              "      <th>0</th>\n",
              "      <td>3552</td>\n",
              "    </tr>\n",
              "    <tr>\n",
              "      <th>1</th>\n",
              "      <td>19</td>\n",
              "    </tr>\n",
              "  </tbody>\n",
              "</table>\n",
              "</div>"
            ],
            "text/plain": [
              "                            promotion_last_5years\n",
              "left promotion_last_5years                       \n",
              "0    0                                      11128\n",
              "     1                                        300\n",
              "1    0                                       3552\n",
              "     1                                         19"
            ]
          },
          "metadata": {
            "tags": []
          },
          "execution_count": 14
        }
      ]
    },
    {
      "cell_type": "code",
      "metadata": {
        "colab": {
          "base_uri": "https://localhost:8080/"
        },
        "id": "kSYp_0536TtW",
        "outputId": "a1c39529-f521-4176-8418-b6c25eba2e37"
      },
      "source": [
        "#Getting the number of leavers who had low salary and were not promoted in the last 5 years \n",
        "print('Number of leavers who had low salary and were not promoted :',df['left'].loc[(df['salary']=='low')&(df['left']==1)&(df['promotion_last_5years']==0)].count())"
      ],
      "execution_count": 31,
      "outputs": [
        {
          "output_type": "stream",
          "text": [
            "Number of leavers who had low salary and were not promoted : 2158\n"
          ],
          "name": "stdout"
        }
      ]
    },
    {
      "cell_type": "code",
      "metadata": {
        "colab": {
          "base_uri": "https://localhost:8080/"
        },
        "id": "4Jy0BL58b012",
        "outputId": "0395dbe2-6398-41af-de3f-a6bee81eb996"
      },
      "source": [
        "#Getting the number of leavers who had medium salary and were not promoted in the last 5 years \n",
        "print('Number of leavers who had medium salary and were not promoted :',df['left'].loc[(df['salary']=='medium')&(df['left']==1)&(df['promotion_last_5years']==0)].count())"
      ],
      "execution_count": 32,
      "outputs": [
        {
          "output_type": "stream",
          "text": [
            "Number of leavers who had medium salary and were not promoted : 1312\n"
          ],
          "name": "stdout"
        }
      ]
    },
    {
      "cell_type": "code",
      "metadata": {
        "id": "Sd_hmhMOYtqd"
      },
      "source": [
        "#Specifying the independent and dependent variables\n",
        "predictor=df.loc[:,'promotion_last_5years']\n",
        "predicted=df.loc[:,'left']"
      ],
      "execution_count": 17,
      "outputs": []
    },
    {
      "cell_type": "code",
      "metadata": {
        "id": "1a7DYw0TfOvM"
      },
      "source": [
        "#Subsetting the dataset to training and testing sets\n",
        "from sklearn.model_selection import train_test_split\n",
        "predictor_train, predictor_test, predicted_train, predicted_test = train_test_split(predictor, predicted, test_size = 0.20)\n"
      ],
      "execution_count": 18,
      "outputs": []
    },
    {
      "cell_type": "code",
      "metadata": {
        "id": "IIJbCR74v3Z1"
      },
      "source": [
        "#Reshaping to 2-D array\n",
        "predictor_train=predictor_train.values.reshape(-1, 1)\n",
        "predicted_train=predicted_train.values.reshape(-1, 1)\n",
        "predictor_test=predictor_test.values.reshape(-1, 1)"
      ],
      "execution_count": 19,
      "outputs": []
    },
    {
      "cell_type": "code",
      "metadata": {
        "colab": {
          "base_uri": "https://localhost:8080/"
        },
        "id": "LibNhvUQfOz6",
        "outputId": "2940d419-3eb9-4b4b-f34e-c2e34eafde4b"
      },
      "source": [
        "#Creating an instance of the logistic regression model and fitting it to the training data\n",
        "from sklearn.linear_model import LogisticRegression\n",
        "classifier = LogisticRegression(random_state=0)\n",
        "classifier.fit(predictor_train, predicted_train)"
      ],
      "execution_count": 20,
      "outputs": [
        {
          "output_type": "stream",
          "text": [
            "/usr/local/lib/python3.6/dist-packages/sklearn/utils/validation.py:760: DataConversionWarning: A column-vector y was passed when a 1d array was expected. Please change the shape of y to (n_samples, ), for example using ravel().\n",
            "  y = column_or_1d(y, warn=True)\n"
          ],
          "name": "stderr"
        },
        {
          "output_type": "execute_result",
          "data": {
            "text/plain": [
              "LogisticRegression(C=1.0, class_weight=None, dual=False, fit_intercept=True,\n",
              "                   intercept_scaling=1, l1_ratio=None, max_iter=100,\n",
              "                   multi_class='auto', n_jobs=None, penalty='l2',\n",
              "                   random_state=0, solver='lbfgs', tol=0.0001, verbose=0,\n",
              "                   warm_start=False)"
            ]
          },
          "metadata": {
            "tags": []
          },
          "execution_count": 20
        }
      ]
    },
    {
      "cell_type": "code",
      "metadata": {
        "id": "NNSaEhjCfOt_"
      },
      "source": [
        "#Predicting the dependent variable \n",
        "y_pred = classifier.predict(predictor_test)"
      ],
      "execution_count": 21,
      "outputs": []
    },
    {
      "cell_type": "code",
      "metadata": {
        "colab": {
          "base_uri": "https://localhost:8080/"
        },
        "id": "yFzwQJPYHJLI",
        "outputId": "8c67ff19-4ae1-4c8c-db08-9c147aa8dde0"
      },
      "source": [
        "#Creating a confusion matrix\n",
        "from sklearn import metrics\n",
        "cnf_matrix = metrics.confusion_matrix(predicted_test, y_pred)\n",
        "cnf_matrix"
      ],
      "execution_count": 22,
      "outputs": [
        {
          "output_type": "execute_result",
          "data": {
            "text/plain": [
              "array([[2301,    0],\n",
              "       [ 699,    0]])"
            ]
          },
          "metadata": {
            "tags": []
          },
          "execution_count": 22
        }
      ]
    },
    {
      "cell_type": "code",
      "metadata": {
        "colab": {
          "base_uri": "https://localhost:8080/",
          "height": 342
        },
        "id": "jA8vtMK8HJu6",
        "outputId": "0c4ee107-aaa2-4360-ec5f-3619d3274788"
      },
      "source": [
        "#Plotting the confusion matrix as a heatmap\n",
        "class_names=[0,1] \n",
        "fig, ax = plt.subplots()\n",
        "tick_marks = np.arange(len(class_names))\n",
        "plt.xticks(tick_marks, class_names)\n",
        "plt.yticks(tick_marks, class_names)\n",
        "# create heatmap\n",
        "sns.heatmap(pd.DataFrame(cnf_matrix), annot=True, cmap=\"YlGnBu\" ,fmt='g')\n",
        "ax.xaxis.set_label_position(\"top\")\n",
        "plt.tight_layout()\n",
        "plt.title('Confusion matrix', y=1.1)\n",
        "plt.ylabel('Actual label')\n",
        "plt.xlabel('Predicted label')"
      ],
      "execution_count": 23,
      "outputs": [
        {
          "output_type": "execute_result",
          "data": {
            "text/plain": [
              "Text(0.5, 257.44, 'Predicted label')"
            ]
          },
          "metadata": {
            "tags": []
          },
          "execution_count": 23
        },
        {
          "output_type": "display_data",
          "data": {
            "image/png": "[encoded data removed]",
            "text/plain": [
              "<Figure size 432x288 with 2 Axes>"
            ]
          },
          "metadata": {
            "tags": [],
            "needs_background": "light"
          }
        }
      ]
    },
    {
      "cell_type": "code",
      "metadata": {
        "colab": {
          "base_uri": "https://localhost:8080/"
        },
        "id": "qLDvxj91HJJt",
        "outputId": "f74eb5ff-5d7c-4741-9999-64b2ad9b03f7"
      },
      "source": [
        "#Getting the accuracy, precision, and recall of the model\n",
        "print(\"Accuracy:\",metrics.accuracy_score(predicted_test, y_pred))\n",
        "print(\"Precision:\",metrics.precision_score(predicted_test, y_pred))\n",
        "print(\"Recall:\",metrics.recall_score(predicted_test, y_pred))"
      ],
      "execution_count": 24,
      "outputs": [
        {
          "output_type": "stream",
          "text": [
            "Accuracy: 0.767\n",
            "Precision: 0.0\n",
            "Recall: 0.0\n"
          ],
          "name": "stdout"
        },
        {
          "output_type": "stream",
          "text": [
            "/usr/local/lib/python3.6/dist-packages/sklearn/metrics/_classification.py:1272: UndefinedMetricWarning: Precision is ill-defined and being set to 0.0 due to no predicted samples. Use `zero_division` parameter to control this behavior.\n",
            "  _warn_prf(average, modifier, msg_start, len(result))\n"
          ],
          "name": "stderr"
        }
      ]
    }
  ]
}